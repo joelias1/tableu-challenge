{
 "cells": [
  {
   "cell_type": "code",
   "execution_count": null,
   "metadata": {},
   "outputs": [],
   "source": [
    "# NYC Citibike tripdata History Logs from February 2020 - April 2020\n",
    "import pandas as pd\n",
    "import datetime\n",
    "import numpy as np\n",
    "import os"
   ]
  },
  {
   "cell_type": "code",
   "execution_count": null,
   "metadata": {},
   "outputs": [],
   "source": [
    "# Get NYC Citibike tripdata csv files from 201806 to 201808\n",
    "trip_feb = os.path.join(\"Resources\" ,\"JC-201806-citibike-tripdata.csv\")\n",
    "trip_mar = os.path.join(\"Resources\" ,\"JC-201807-citibike-tripdata.csv\")\n",
    "trip_apr = os.path.join(\"Resources\" ,\"JC-201808-citibike-tripdata.csv\")\n",
    "\n",
    "nycbike_feb = pd.read_csv(trip_feb)\n",
    "nycbike_mar = pd.read_csv(trip_mar)\n",
    "nycbike_apr = pd.read_csv(trip_apr)"
   ]
  }
 ],
 "metadata": {
  "kernelspec": {
   "display_name": "Python 3",
   "language": "python",
   "name": "python3"
  },
  "language_info": {
   "codemirror_mode": {
    "name": "ipython",
    "version": 3
   },
   "file_extension": ".py",
   "mimetype": "text/x-python",
   "name": "python",
   "nbconvert_exporter": "python",
   "pygments_lexer": "ipython3",
   "version": "3.6.9"
  }
 },
 "nbformat": 4,
 "nbformat_minor": 2
}
